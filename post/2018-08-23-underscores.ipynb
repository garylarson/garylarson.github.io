{
 "cells": [
  {
   "cell_type": "raw",
   "metadata": {},
   "source": [
    "---\n",
    "title: \"Python: single underscores vs. double underscores\"\n",
    "author: ''\n",
    "date: '2018-08-23'\n",
    "slug: single-underscore-vs-double-underscore\n",
    "tags:\n",
    "  - python\n",
    "categories: []\n",
    "subtitle: ''\n",
    "menu: blog\n",
    "weight: 10\n",
    "draft: false\n",
    "---"
   ]
  },
  {
   "cell_type": "markdown",
   "metadata": {},
   "source": [
    "[This Youtube video](https://www.youtube.com/watch?v=ALZmCy2u0jQ\n",
    ") is a really great 6 minute demonstration of the distinction between `_` and `__`. I'll embed the linked video at the end of this post. One of the top comments on that video says\n",
    "\n",
    "> For C++ people, `foo` is public, `_bar` is protected, and `__baz` is private.\n",
    "\n",
    "Here's a simple class, with an initializer implemented, including the three variables `foo`, `_bar`, and `__baz`."
   ]
  },
  {
   "cell_type": "code",
   "execution_count": 14,
   "metadata": {},
   "outputs": [],
   "source": [
    "class Test:\n",
    "    def __init__(self):\n",
    "        self.foo = 11\n",
    "        self._bar = 23\n",
    "        self.__baz = 42\n",
    "\n",
    "t = Test()"
   ]
  },
  {
   "cell_type": "markdown",
   "metadata": {},
   "source": [
    "## The single underscore\n",
    "The single underscore takes its meaning by convention. That is, it's not something that's enforced by the interpreter. The single underscore \"suggests\" that the variable is private to the class, forcing a user to actually type an underscore e.g. `._bar` to access it.\n",
    "\n",
    "## The double underscore\n",
    "The Python interpreter does some \"name mangling\" when you define something with a double underscore. It's explained in the Youtube video above, and it's done **to prevent name collisions when somebody extends the class**. The name mangling means that trying to access `__baz` the usual way (`t.__baz`) won't work. \n",
    "\n",
    "So the single underscore variable can be directly accessed, because no name mangling takes place:"
   ]
  },
  {
   "cell_type": "code",
   "execution_count": 15,
   "metadata": {},
   "outputs": [
    {
     "data": {
      "text/plain": [
       "23"
      ]
     },
     "execution_count": 15,
     "metadata": {},
     "output_type": "execute_result"
    }
   ],
   "source": [
    "t._bar"
   ]
  },
  {
   "cell_type": "markdown",
   "metadata": {},
   "source": [
    "But the \"dunder\" (**d**ouble **under**score) variable can't be accessed directly:"
   ]
  },
  {
   "cell_type": "code",
   "execution_count": 16,
   "metadata": {},
   "outputs": [
    {
     "ename": "AttributeError",
     "evalue": "'Test' object has no attribute '__baz'",
     "output_type": "error",
     "traceback": [
      "\u001b[0;31m---------------------------------------------------------------------------\u001b[0m",
      "\u001b[0;31mAttributeError\u001b[0m                            Traceback (most recent call last)",
      "\u001b[0;32m<ipython-input-16-ead6810a10a9>\u001b[0m in \u001b[0;36m<module>\u001b[0;34m()\u001b[0m\n\u001b[0;32m----> 1\u001b[0;31m \u001b[0mt\u001b[0m\u001b[0;34m.\u001b[0m\u001b[0m__baz\u001b[0m\u001b[0;34m\u001b[0m\u001b[0m\n\u001b[0m",
      "\u001b[0;31mAttributeError\u001b[0m: 'Test' object has no attribute '__baz'"
     ]
    }
   ],
   "source": [
    "t.__baz"
   ]
  },
  {
   "cell_type": "markdown",
   "metadata": {},
   "source": [
    "What's going on? Let's look at the instance's \"attributes\" (not sure if that's what they're called)."
   ]
  },
  {
   "cell_type": "code",
   "execution_count": 17,
   "metadata": {},
   "outputs": [
    {
     "data": {
      "text/plain": [
       "['_Test__baz',\n",
       " '__class__',\n",
       " '__delattr__',\n",
       " '__dict__',\n",
       " '__dir__',\n",
       " '__doc__',\n",
       " '__eq__',\n",
       " '__format__',\n",
       " '__ge__',\n",
       " '__getattribute__',\n",
       " '__gt__',\n",
       " '__hash__',\n",
       " '__init__',\n",
       " '__init_subclass__',\n",
       " '__le__',\n",
       " '__lt__',\n",
       " '__module__',\n",
       " '__ne__',\n",
       " '__new__',\n",
       " '__reduce__',\n",
       " '__reduce_ex__',\n",
       " '__repr__',\n",
       " '__setattr__',\n",
       " '__sizeof__',\n",
       " '__str__',\n",
       " '__subclasshook__',\n",
       " '__weakref__',\n",
       " '_bar',\n",
       " 'foo']"
      ]
     },
     "execution_count": 17,
     "metadata": {},
     "output_type": "execute_result"
    }
   ],
   "source": [
    "dir(t)"
   ]
  },
  {
   "cell_type": "markdown",
   "metadata": {},
   "source": [
    "You can see that `_bar` is directly accessible (and of course, `foo` is too), but `__baz` has been name-mangled to `_Test__baz`. So if somebody extended the class, the extended class's field would be something like `_ExtendedTest__baz`."
   ]
  },
  {
   "cell_type": "markdown",
   "metadata": {},
   "source": [
    "{{< youtube ALZmCy2u0jQ >}}"
   ]
  }
 ],
 "metadata": {
  "kernelspec": {
   "display_name": "Python 3",
   "language": "python",
   "name": "python3"
  },
  "language_info": {
   "codemirror_mode": {
    "name": "ipython",
    "version": 3
   },
   "file_extension": ".py",
   "mimetype": "text/x-python",
   "name": "python",
   "nbconvert_exporter": "python",
   "pygments_lexer": "ipython3",
   "version": "3.6.5"
  }
 },
 "nbformat": 4,
 "nbformat_minor": 2
}
